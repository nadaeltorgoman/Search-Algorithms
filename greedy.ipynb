{
 "cells": [
  {
   "cell_type": "code",
   "execution_count": 2,
   "metadata": {},
   "outputs": [],
   "source": [
    "graph = {\n",
    "    'S': [('A', 1), ('B', 4)],\n",
    "    'A': [('B', 2), ('C', 5), ('G', 12)],\n",
    "    'B': [('C', 2)],\n",
    "    'C': [('G', 3)],\n",
    "    # 'G': []\n",
    "}\n",
    "\n",
    "H_table = {\n",
    "    'S': 7,\n",
    "    'A': 6,\n",
    "    'B': 4,\n",
    "    'C': 2,\n",
    "    'G': 0\n",
    "}"
   ]
  },
  {
   "cell_type": "markdown",
   "metadata": {},
   "source": [
    "### **Helper Function**\n",
    "##### **Path H-cost**"
   ]
  },
  {
   "cell_type": "code",
   "execution_count": 3,
   "metadata": {},
   "outputs": [],
   "source": [
    "def path_h_cost(path):\n",
    "    g_cost = 0\n",
    "    for (node, cost) in path:  # iterate over the path and sum the costs\n",
    "        g_cost += cost\n",
    "    last_node = path[-1][0]\n",
    "    h_cost = H_table[last_node]  # get the heuristic cost of the last node\n",
    "    return h_cost, last_node"
   ]
  },
  {
   "cell_type": "markdown",
   "metadata": {},
   "source": [
    "##### Testing our functions with different inputs"
   ]
  },
  {
   "cell_type": "code",
   "execution_count": 4,
   "metadata": {},
   "outputs": [
    {
     "name": "stdout",
     "output_type": "stream",
     "text": [
      "(2, 'C')\n"
     ]
    }
   ],
   "source": [
    "path = [('S', 0), ('A', 1), ('C', 5)]\n",
    "print(path_h_cost(path))"
   ]
  },
  {
   "cell_type": "code",
   "execution_count": 5,
   "metadata": {},
   "outputs": [
    {
     "name": "stdout",
     "output_type": "stream",
     "text": [
      "(4, 'B')\n"
     ]
    }
   ],
   "source": [
    "path = [('S', 0), ('A', 1), ('B', 2)]\n",
    "print(path_h_cost(path))"
   ]
  },
  {
   "cell_type": "markdown",
   "metadata": {},
   "source": [
    "### **Greedy Best First Search**"
   ]
  },
  {
   "cell_type": "code",
   "execution_count": 7,
   "metadata": {},
   "outputs": [],
   "source": [
    "def greedy_best_search(graph, start, goal):\n",
    "    visited = []\n",
    "    queue = [[(start, 0)]]  # a list of paths starting with the start node\n",
    "    while queue:\n",
    "        queue.sort(key=path_h_cost)  # sort the queue by f_cost\n",
    "        path = queue.pop(0)  # get the path with the lowest f_cost\n",
    "        node = path[-1][0]  # get the last node from the path\n",
    "        if node in visited:  # if the node has been visited, skip it\n",
    "            continue\n",
    "        visited.append(node)  # mark the node as visited\n",
    "        if node == goal:  # if the node is the goal, return the path\n",
    "            return path\n",
    "        else:  # otherwise, add the adjacent nodes to the queue\n",
    "            adjacent_nodes = graph.get(node, [])\n",
    "            for node2, cost in adjacent_nodes:\n",
    "                new_path = path.copy()\n",
    "                new_path.append((node2, cost))\n",
    "                queue.append(new_path)"
   ]
  },
  {
   "cell_type": "code",
   "execution_count": 8,
   "metadata": {},
   "outputs": [
    {
     "name": "stdout",
     "output_type": "stream",
     "text": [
      "Solution is  [('S', 0), ('B', 4), ('C', 2), ('G', 3)]\n",
      "Cost is  0\n"
     ]
    }
   ],
   "source": [
    "solution = greedy_best_search(graph, 'S', 'G')\n",
    "print('Solution is ',solution)\n",
    "print('Cost is ',path_h_cost(solution)[0])"
   ]
  }
 ],
 "metadata": {
  "kernelspec": {
   "display_name": "Python 3",
   "language": "python",
   "name": "python3"
  },
  "language_info": {
   "codemirror_mode": {
    "name": "ipython",
    "version": 3
   },
   "file_extension": ".py",
   "mimetype": "text/x-python",
   "name": "python",
   "nbconvert_exporter": "python",
   "pygments_lexer": "ipython3",
   "version": "3.11.9"
  }
 },
 "nbformat": 4,
 "nbformat_minor": 2
}
