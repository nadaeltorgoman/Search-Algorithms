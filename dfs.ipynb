{
 "cells": [
  {
   "cell_type": "code",
   "execution_count": 1,
   "metadata": {},
   "outputs": [],
   "source": [
    "graph = {\n",
    "    'S': ['B', 'D', 'A'],\n",
    "    'A': ['C'],\n",
    "    'B': ['D'],\n",
    "    'C': ['G', 'D'],\n",
    "    'D': ['G'],\n",
    "    # 'G': []\n",
    "}"
   ]
  },
  {
   "cell_type": "markdown",
   "metadata": {},
   "source": [
    "## Depth-First Search (DFS)"
   ]
  },
  {
   "cell_type": "code",
   "execution_count": 2,
   "metadata": {},
   "outputs": [],
   "source": [
    "def dfs(graph, start, goal):\n",
    "    visited = []\n",
    "    stack = [[start]]\n",
    "\n",
    "    while stack:\n",
    "        path = stack.pop()  # pop the last path\n",
    "        node = path[-1]\n",
    "        if node in visited:\n",
    "            continue\n",
    "        visited.append(node)\n",
    "        if node == goal:\n",
    "            return path\n",
    "        else:\n",
    "            adjacent = graph.get(node, [])\n",
    "            for neighbor in adjacent:\n",
    "                new_path = list(path)  # copy the path\n",
    "                new_path.append(neighbor)\n",
    "                stack.append(new_path)"
   ]
  },
  {
   "cell_type": "code",
   "execution_count": 3,
   "metadata": {},
   "outputs": [
    {
     "name": "stdout",
     "output_type": "stream",
     "text": [
      "Solution: ['S', 'A', 'C', 'D', 'G']\n"
     ]
    }
   ],
   "source": [
    "solution = dfs(graph, 'S','G')\n",
    "print('Solution:', solution)"
   ]
  }
 ],
 "metadata": {
  "kernelspec": {
   "display_name": "Python 3",
   "language": "python",
   "name": "python3"
  },
  "language_info": {
   "codemirror_mode": {
    "name": "ipython",
    "version": 3
   },
   "file_extension": ".py",
   "mimetype": "text/x-python",
   "name": "python",
   "nbconvert_exporter": "python",
   "pygments_lexer": "ipython3",
   "version": "3.11.9"
  }
 },
 "nbformat": 4,
 "nbformat_minor": 2
}
