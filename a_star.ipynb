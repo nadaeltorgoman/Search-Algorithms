{
 "cells": [
  {
   "cell_type": "code",
   "execution_count": 1,
   "metadata": {},
   "outputs": [],
   "source": [
    "graph = {  # adjacency list\n",
    "    'S': [('A', 1), ('B', 4)],\n",
    "    'A': [('B', 2), ('C', 5), ('G', 12)],\n",
    "    'B': [('C', 2)],\n",
    "    'C': [('G', 3)],\n",
    "}\n",
    "\n",
    "\n",
    "H_table = {  # heuristic cost table\n",
    "    'S': 7,\n",
    "    'A': 6,\n",
    "    'B': 4,\n",
    "    'C': 2,\n",
    "    'G': 0\n",
    "}"
   ]
  },
  {
   "cell_type": "markdown",
   "metadata": {},
   "source": [
    "### **Helper Function**\n",
    "##### **Path H-cost**\n",
    "##### Calculate the F-cost of a path"
   ]
  },
  {
   "cell_type": "code",
   "execution_count": 2,
   "metadata": {},
   "outputs": [],
   "source": [
    "def path_f_cost(path):\n",
    "    g_cost = 0\n",
    "    for (node, cost) in path:  # iterate over the path and sum the costs\n",
    "        g_cost += cost\n",
    "    last_node = path[-1][0]\n",
    "    h_cost = H_table[last_node]  # get the heuristic cost of the last node\n",
    "    f_cost = g_cost + h_cost\n",
    "    return f_cost, last_node"
   ]
  },
  {
   "cell_type": "markdown",
   "metadata": {},
   "source": [
    "#### Testing our function with different inputs"
   ]
  },
  {
   "cell_type": "code",
   "execution_count": 3,
   "metadata": {},
   "outputs": [
    {
     "name": "stdout",
     "output_type": "stream",
     "text": [
      "(8, 'C')\n"
     ]
    }
   ],
   "source": [
    "# Test the path_f_cost function\n",
    "path = [('S', 0), ('A', 1), ('C', 5)]\n",
    "print(path_f_cost(path))"
   ]
  },
  {
   "cell_type": "markdown",
   "metadata": {},
   "source": [
    "### **A\\* function**"
   ]
  },
  {
   "cell_type": "code",
   "execution_count": 4,
   "metadata": {},
   "outputs": [],
   "source": [
    "def a_star_search(graph, start, goal):\n",
    "    visited = []\n",
    "    queue = [[(start, 0)]]  # a list of paths starting with the start node\n",
    "    while queue:\n",
    "        queue.sort(key=path_f_cost)  # sort the queue by f_cost\n",
    "        path = queue.pop(0)  # get the path with the lowest f_cost\n",
    "        node = path[-1][0]  # get the last node from the path\n",
    "        if node in visited:  # if the node has been visited, skip it\n",
    "            continue\n",
    "        visited.append(node)  # mark the node as visited\n",
    "        if node == goal:  # if the node is the goal, return the path\n",
    "            return path\n",
    "        else:  # otherwise, add the adjacent nodes to the queue\n",
    "            adjacent_nodes = graph.get(node, [])\n",
    "            for node2, cost in adjacent_nodes:\n",
    "                new_path = path.copy()\n",
    "                new_path.append((node2, cost))\n",
    "                queue.append(new_path)"
   ]
  },
  {
   "cell_type": "code",
   "execution_count": 5,
   "metadata": {},
   "outputs": [
    {
     "name": "stdout",
     "output_type": "stream",
     "text": [
      "Solution is  [('S', 0), ('A', 1), ('B', 2), ('C', 2), ('G', 3)]\n",
      "Cost is  8\n"
     ]
    }
   ],
   "source": [
    "solution = a_star_search(graph, 'S', 'G')\n",
    "print('Solution is ', solution)\n",
    "print('Cost is ', path_f_cost(solution)[0])"
   ]
  }
 ],
 "metadata": {
  "kernelspec": {
   "display_name": "Python 3",
   "language": "python",
   "name": "python3"
  },
  "language_info": {
   "codemirror_mode": {
    "name": "ipython",
    "version": 3
   },
   "file_extension": ".py",
   "mimetype": "text/x-python",
   "name": "python",
   "nbconvert_exporter": "python",
   "pygments_lexer": "ipython3",
   "version": "3.11.9"
  }
 },
 "nbformat": 4,
 "nbformat_minor": 2
}
