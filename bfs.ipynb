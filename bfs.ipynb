{
 "cells": [
  {
   "cell_type": "code",
   "execution_count": 5,
   "metadata": {},
   "outputs": [],
   "source": [
    "graph = {\n",
    "    'S': ['B', 'D', 'A'],\n",
    "    'A': ['C'],\n",
    "    'B': ['D'],\n",
    "    'C': ['G', 'D'],\n",
    "    'D': ['G'],\n",
    "    # 'G': []\n",
    "}"
   ]
  },
  {
   "cell_type": "markdown",
   "metadata": {},
   "source": [
    "## Breadth-First Search (BFS)"
   ]
  },
  {
   "cell_type": "code",
   "execution_count": 8,
   "metadata": {},
   "outputs": [],
   "source": [
    "def bfs(graph, start, goal):\n",
    "    visited = []\n",
    "    queue = [[start]]\n",
    "\n",
    "    while queue:\n",
    "        path = queue.pop(0) # get the first path from the queue\n",
    "        node = path[-1]\n",
    "        if node in visited:\n",
    "            continue\n",
    "        visited.append(node)\n",
    "        if node == goal:\n",
    "            return path\n",
    "        else:\n",
    "            adjacent = graph.get(node, [])\n",
    "            for neighbor in adjacent:\n",
    "                new_path = path.copy()  # copy the current path\n",
    "                new_path.append(neighbor)\n",
    "                queue.append(new_path)"
   ]
  },
  {
   "cell_type": "code",
   "execution_count": 9,
   "metadata": {},
   "outputs": [
    {
     "name": "stdout",
     "output_type": "stream",
     "text": [
      "Solution: ['S', 'D', 'G']\n"
     ]
    }
   ],
   "source": [
    "solution = bfs(graph, 'S','G')\n",
    "print('Solution:', solution)"
   ]
  }
 ],
 "metadata": {
  "kernelspec": {
   "display_name": "Python 3",
   "language": "python",
   "name": "python3"
  },
  "language_info": {
   "codemirror_mode": {
    "name": "ipython",
    "version": 3
   },
   "file_extension": ".py",
   "mimetype": "text/x-python",
   "name": "python",
   "nbconvert_exporter": "python",
   "pygments_lexer": "ipython3",
   "version": "3.11.9"
  }
 },
 "nbformat": 4,
 "nbformat_minor": 2
}
