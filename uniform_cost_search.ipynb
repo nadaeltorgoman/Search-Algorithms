{
 "cells": [
  {
   "cell_type": "code",
   "execution_count": 13,
   "metadata": {},
   "outputs": [],
   "source": [
    "graph = {\n",
    "    'S': [('A', 2), ('B', 3), ('D', 5)],\n",
    "    'A': [('C', 4)],\n",
    "    'B': [('D', 4)],\n",
    "    'C': [('D', 1), ('G', 2)],\n",
    "    'D': [('G', 5)],\n",
    "    # 'G': []\n",
    "}"
   ]
  },
  {
   "cell_type": "markdown",
   "metadata": {},
   "source": [
    "#### this function calculates the total cost of a path"
   ]
  },
  {
   "cell_type": "code",
   "execution_count": 14,
   "metadata": {},
   "outputs": [],
   "source": [
    "def path_cost(path):\n",
    "    g_cost = 0\n",
    "    for (node, cost) in path: # for each node in the path, if the path is ('A', 2) then the node is 'A', and the cost is 2\n",
    "        g_cost += cost\n",
    "    return g_cost, path[-1][0]  # return the total cost and the last node in the path\n",
    "#Node (the last node in the path) we sort by this value if two paths have the same cost."
   ]
  },
  {
   "cell_type": "markdown",
   "metadata": {},
   "source": [
    "#### Testing our function with different inputs"
   ]
  },
  {
   "cell_type": "code",
   "execution_count": 15,
   "metadata": {},
   "outputs": [
    {
     "name": "stdout",
     "output_type": "stream",
     "text": [
      "(10, 'G')\n"
     ]
    }
   ],
   "source": [
    "path = [('S', 0), ('D', 5), ('G', 5)]  # this is a path from S to G, with a cost of 5\n",
    "print(path_cost(path))"
   ]
  },
  {
   "cell_type": "code",
   "execution_count": 16,
   "metadata": {},
   "outputs": [
    {
     "name": "stdout",
     "output_type": "stream",
     "text": [
      "(7, 'D')\n"
     ]
    }
   ],
   "source": [
    "path = [('S', 0), ('B', 3), ('D', 4)]  # this is a path from S to G, with a cost of 5\n",
    "print(path_cost(path))"
   ]
  },
  {
   "cell_type": "markdown",
   "metadata": {},
   "source": [
    "### **Uniform-Cost Search (UCS)**"
   ]
  },
  {
   "cell_type": "code",
   "execution_count": 17,
   "metadata": {},
   "outputs": [],
   "source": [
    "def ucs(graph, start, goal):\n",
    "    visited = []\n",
    "    queue = [[(start, 0)]]  # the queue is a list of paths, each path is a list of nodes\n",
    "    while queue:\n",
    "        queue.sort(key=path_cost)  # sort the queue by the cost of the paths\n",
    "        path = queue.pop(0)  # pop the path with the smallest cost\n",
    "        node = path[-1][0]  # get the last node in the path\n",
    "        if node in visited:\n",
    "            continue\n",
    "        visited.append(node)\n",
    "        if node == goal:\n",
    "            return path\n",
    "        else :\n",
    "            adjacent_nodes = graph.get(node, [])\n",
    "            for (node2, cost) in adjacent_nodes:\n",
    "                new_path = path.copy()\n",
    "                new_path.append((node2, cost))  # add the child to the path\n",
    "                queue.append(new_path)  # add the new path to the queue"
   ]
  },
  {
   "cell_type": "code",
   "execution_count": 18,
   "metadata": {},
   "outputs": [
    {
     "name": "stdout",
     "output_type": "stream",
     "text": [
      "Solution is  [('S', 0), ('A', 2), ('C', 4), ('G', 2)]\n",
      "Cost of solution is  8\n"
     ]
    }
   ],
   "source": [
    "solution = ucs(graph, 'S', 'G')\n",
    "print('Solution is ',solution)\n",
    "print('Cost of solution is ',path_cost(solution)[0])"
   ]
  }
 ],
 "metadata": {
  "kernelspec": {
   "display_name": "Python 3",
   "language": "python",
   "name": "python3"
  },
  "language_info": {
   "codemirror_mode": {
    "name": "ipython",
    "version": 3
   },
   "file_extension": ".py",
   "mimetype": "text/x-python",
   "name": "python",
   "nbconvert_exporter": "python",
   "pygments_lexer": "ipython3",
   "version": "3.11.9"
  }
 },
 "nbformat": 4,
 "nbformat_minor": 2
}
